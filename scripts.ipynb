{
 "cells": [
  {
   "cell_type": "markdown",
   "id": "2f23b47e",
   "metadata": {},
   "source": [
    "# MATTIA CASTALDO 1837100"
   ]
  },
  {
   "cell_type": "markdown",
   "id": "9a0d429b",
   "metadata": {},
   "source": [
    "#### In some tasks I needed to check Hacker's Rank Discussion Forum. I add a complete list of these exercises to distinguish them from those done entirely on my own. Thank you."
   ]
  },
  {
   "cell_type": "markdown",
   "id": "c5ea6694",
   "metadata": {},
   "source": [
    "1. Decorators 2 - name directory\n",
    "2. time delta\n",
    "3. matrix script\n",
    "4. html parser 1\n",
    "5. group(), groups() & groupdict()\n",
    "6. Athlete sort\n",
    "7. Collections.ORderedDict()\n",
    "8. Collection deque()\n",
    "9. Validating and Parsing Email Addresses\n",
    "10. Validating UID\n",
    "11. HEX Color COD\n",
    "12. Designer Door Mat\n",
    "\n",
    "#### In some tasks I could not even understand the solutions provided by the forum. MY BAD.  Therefore, I did not want to include them in my scripts.ipynb\n",
    "1. Alphabet Rangoli\n",
    "2. The Minion Game\n",
    "3. Merge the Tools\n",
    "4. XML 2 'Find the maximum depth'\n",
    "\n",
    "\n",
    "\n",
    "\n"
   ]
  },
  {
   "cell_type": "markdown",
   "id": "0ac45e9c",
   "metadata": {},
   "source": [
    "# PROBLEM 1"
   ]
  },
  {
   "cell_type": "markdown",
   "id": "6c1d615f",
   "metadata": {},
   "source": [
    "## INTRODUCTION\n"
   ]
  },
  {
   "cell_type": "markdown",
   "id": "850aa6cf",
   "metadata": {},
   "source": [
    "#### Say \"Hello, World!\" With Python"
   ]
  },
  {
   "cell_type": "code",
   "execution_count": null,
   "id": "4346d11e",
   "metadata": {},
   "outputs": [],
   "source": [
    "my_string = \"Hello, World!\"\n",
    "print(my_string)\n"
   ]
  },
  {
   "cell_type": "markdown",
   "id": "4e903fac",
   "metadata": {},
   "source": [
    "#### Arithmetic Operators"
   ]
  },
  {
   "cell_type": "code",
   "execution_count": null,
   "id": "fbb53bec",
   "metadata": {},
   "outputs": [],
   "source": [
    "a = int(input())\n",
    "b = int(input())\n",
    "print(a+b)\n",
    "print(a-b)\n",
    "print(a*b)\n"
   ]
  },
  {
   "cell_type": "markdown",
   "id": "c675310b",
   "metadata": {},
   "source": [
    "#### Python: Division"
   ]
  },
  {
   "cell_type": "code",
   "execution_count": null,
   "id": "b863375b",
   "metadata": {},
   "outputs": [],
   "source": [
    "\n",
    "a = int(input())\n",
    "b = int(input())\n",
    "print(a//b)\n",
    "print(a/b)\n"
   ]
  },
  {
   "cell_type": "markdown",
   "id": "cb4c0be3",
   "metadata": {},
   "source": [
    "#### Loops"
   ]
  },
  {
   "cell_type": "code",
   "execution_count": null,
   "id": "baacb852",
   "metadata": {},
   "outputs": [],
   "source": [
    "n = int(input())\n",
    "i=0\n",
    "while i < n:\n",
    "    print(i**2)\n",
    "    i+=1\n"
   ]
  },
  {
   "cell_type": "markdown",
   "id": "9a4eda71",
   "metadata": {},
   "source": [
    "#### Write a function"
   ]
  },
  {
   "cell_type": "code",
   "execution_count": null,
   "id": "f736dc41",
   "metadata": {},
   "outputs": [],
   "source": [
    "def is_leap(year):\n",
    "    if year%4!= 0:\n",
    "        year = False\n",
    "    else:\n",
    "        if year%100==0:\n",
    "            if year%400==0:\n",
    "                year=True\n",
    "            else:\n",
    "                year= False\n",
    "        else:\n",
    "            year=True\n",
    "            \n",
    "          \n",
    "            \n",
    "    \n",
    "    \n",
    "    # Write your logic here\n",
    "    \n",
    "    return year\n",
    "\n"
   ]
  },
  {
   "cell_type": "markdown",
   "id": "fd78ed71",
   "metadata": {},
   "source": [
    "#### Print Function"
   ]
  },
  {
   "cell_type": "code",
   "execution_count": null,
   "id": "e5321064",
   "metadata": {},
   "outputs": [],
   "source": [
    "if __name__ == '__main__':\n",
    "    n = int(input())\n",
    "    i = 1\n",
    "    while i <= n:\n",
    "        print(i,end='')\n",
    "        i+=1\n"
   ]
  },
  {
   "cell_type": "markdown",
   "id": "c693b44f",
   "metadata": {},
   "source": [
    "#### Python If-Else"
   ]
  },
  {
   "cell_type": "code",
   "execution_count": null,
   "id": "73e79f66",
   "metadata": {},
   "outputs": [],
   "source": [
    "#!/bin/python3\n",
    "\n",
    "import math\n",
    "import os\n",
    "import random\n",
    "import re\n",
    "import sys\n",
    "\n",
    "\n",
    "\n",
    "if __name__ == '__main__':\n",
    "    n = int(input().strip())\n",
    "    if n %2!=0:\n",
    "        print('Weird')\n",
    "    else:\n",
    "        if 2 <= n <= 5:\n",
    "            print('Not Weird')\n",
    "        elif 6<=n<=20:\n",
    "            print('Weird')\n",
    "        elif n > 20 :\n",
    "            print('Not Weird')\n"
   ]
  },
  {
   "cell_type": "markdown",
   "id": "815c780f",
   "metadata": {},
   "source": [
    "## DATA TYPES"
   ]
  },
  {
   "cell_type": "markdown",
   "id": "c65ccd35",
   "metadata": {},
   "source": [
    "#### Find the Runner-Up Score!  "
   ]
  },
  {
   "cell_type": "code",
   "execution_count": null,
   "id": "0992f2f0",
   "metadata": {},
   "outputs": [],
   "source": [
    "if __name__ == '__main__':\n",
    "    n = int(input())\n",
    "    arr = map(int, input().split())\n",
    "    print(sorted(set(arr))[-2])\n"
   ]
  },
  {
   "cell_type": "markdown",
   "id": "1691c752",
   "metadata": {},
   "source": [
    "#### Nested Lists"
   ]
  },
  {
   "cell_type": "code",
   "execution_count": null,
   "id": "cc73f0f9",
   "metadata": {},
   "outputs": [],
   "source": [
    "if __name__ == '__main__':\n",
    "    l = []\n",
    "    l2=[]\n",
    "    for _ in range(int(input())):\n",
    "        name = input()\n",
    "        score = float(input())\n",
    "        l.append([name,score])\n",
    "        l2+=[score]\n",
    "    a = sorted(set(l2))[1]\n",
    "    b = sorted(l)\n",
    "    for x,y in b:\n",
    "        if y == a:\n",
    "            print(x)\n",
    "    \n",
    "        \n",
    "    \n",
    "       \n"
   ]
  },
  {
   "cell_type": "markdown",
   "id": "f7127ec7",
   "metadata": {},
   "source": [
    "#### Finding the percentage"
   ]
  },
  {
   "cell_type": "code",
   "execution_count": null,
   "id": "8b362664",
   "metadata": {},
   "outputs": [],
   "source": [
    "if __name__ == '__main__':\n",
    "    n = int(input())\n",
    "    student_marks = {}\n",
    "    for _ in range(n):\n",
    "        name, *line = input().split()\n",
    "        scores = list(map(float, line))\n",
    "        student_marks[name] = scores\n",
    "    query_name = input()\n",
    "    summ = 0\n",
    "    for j in student_marks[query_name]:\n",
    "        summ = summ +j \n",
    "    average = summ/len(student_marks[query_name])\n",
    "    \n",
    "    print(\"%.2f\" %average)\n",
    "    \n"
   ]
  },
  {
   "cell_type": "markdown",
   "id": "b4929252",
   "metadata": {},
   "source": [
    "#### Lists"
   ]
  },
  {
   "cell_type": "code",
   "execution_count": null,
   "id": "303c48fe",
   "metadata": {},
   "outputs": [],
   "source": [
    "if __name__ == '__main__':\n",
    "    N = int(input())\n",
    "    l= []\n",
    "    for i in range(0,N):\n",
    "        h = input().split();\n",
    "        if h[0] == \"print\":\n",
    "            print(l)\n",
    "        elif h[0] == \"insert\":\n",
    "            l.insert(int(h[1]),int(h[2]))\n",
    "        elif h[0] == \"remove\":\n",
    "            l.remove(int(h[1]))\n",
    "        elif h[0] == \"pop\":\n",
    "            l.pop();\n",
    "        elif h[0] == \"append\":\n",
    "            l.append(int(h[1]))\n",
    "        elif h[0] == \"sort\":\n",
    "            l.sort();\n",
    "        else:\n",
    "            l.reverse();        \n",
    "        \n",
    "    \n"
   ]
  },
  {
   "cell_type": "markdown",
   "id": "68dab934",
   "metadata": {},
   "source": [
    "#### Tuples "
   ]
  },
  {
   "cell_type": "code",
   "execution_count": null,
   "id": "0bd40e64",
   "metadata": {},
   "outputs": [],
   "source": [
    "if __name__ == '__main__':\n",
    "    n = int(input())\n",
    "    integer_list = map(int, input().split()) \n",
    "    t = tuple((integer_list))\n",
    "    print(hash(t))\n"
   ]
  },
  {
   "cell_type": "markdown",
   "id": "f02884fa",
   "metadata": {},
   "source": [
    "#### List Comprehensions"
   ]
  },
  {
   "cell_type": "code",
   "execution_count": null,
   "id": "f19888df",
   "metadata": {},
   "outputs": [],
   "source": [
    "if __name__ == '__main__':\n",
    "    x = int(input())\n",
    "    y = int(input())\n",
    "    z = int(input())\n",
    "    n = int(input())\n",
    "    \n",
    "      \n",
    "    print([[i,j,k] for i in range(x+1) for j in range(y+1) for k in range(z+1) if i+j+k != n])\n"
   ]
  },
  {
   "cell_type": "markdown",
   "id": "e9816edc",
   "metadata": {},
   "source": [
    "## STRINGS"
   ]
  },
  {
   "cell_type": "markdown",
   "id": "036871dc",
   "metadata": {},
   "source": [
    "###### text aligment"
   ]
  },
  {
   "cell_type": "code",
   "execution_count": null,
   "id": "79a57c7f",
   "metadata": {},
   "outputs": [],
   "source": [
    "#Replace all ______ with rjust, ljust or center. \n",
    "\n",
    "thickness = int(input()) #This must be an odd number\n",
    "c = 'H'\n",
    "\n",
    "#Top Cone\n",
    "for i in range(thickness):\n",
    "    print((c*i).rjust(thickness-1)+c+(c*i).ljust(thickness-1))\n",
    "\n",
    "#Top Pillars\n",
    "for i in range(thickness+1):\n",
    "    print((c*thickness).center(thickness*2)+(c*thickness).center(thickness*6))\n",
    "\n",
    "#Middle Belt\n",
    "for i in range((thickness+1)//2):\n",
    "    print((c*thickness*5).center(thickness*6))    \n",
    "\n",
    "#Bottom Pillars\n",
    "for i in range(thickness+1):\n",
    "    print((c*thickness).center(thickness*2)+(c*thickness).center(thickness*6))    \n",
    "\n",
    "#Bottom Cone\n",
    "for i in range(thickness):\n",
    "    print(((c*(thickness-i-1)).rjust(thickness)+c+(c*(thickness-i-1)).ljust(thickness)).rjust(thickness*6))\n"
   ]
  },
  {
   "cell_type": "markdown",
   "id": "fb4a3767",
   "metadata": {},
   "source": [
    "#### String Split and Join"
   ]
  },
  {
   "cell_type": "code",
   "execution_count": null,
   "id": "a71e09f3",
   "metadata": {},
   "outputs": [],
   "source": [
    "\n",
    "\n",
    "def split_and_join(line):\n",
    "    # write your code here\n",
    "    a = line.split(\" \")\n",
    "    new_line = \"-\".join(a)\n",
    "    return new_line\n",
    "\n",
    "if __name__ == '__main__':\n",
    "    line = input()\n",
    "    result = split_and_join(line)\n",
    "    print(result)\n"
   ]
  },
  {
   "cell_type": "markdown",
   "id": "cc575771",
   "metadata": {},
   "source": [
    "#### What's Your Name?"
   ]
  },
  {
   "cell_type": "code",
   "execution_count": null,
   "id": "1f4767cb",
   "metadata": {},
   "outputs": [],
   "source": [
    "#\n",
    "# Complete the 'print_full_name' function below.\n",
    "#\n",
    "# The function is expected to return a STRING.\n",
    "# The function accepts following parameters:\n",
    "#  1. STRING first\n",
    "#  2. STRING last\n",
    "#\n",
    "\n",
    "def print_full_name(first, last):\n",
    "    # Write your code here\n",
    "    print('Hello',first,last+'! You just delved into python.')\n",
    "    \n",
    "\n"
   ]
  },
  {
   "cell_type": "markdown",
   "id": "c17f5678",
   "metadata": {},
   "source": [
    "#### Mutations"
   ]
  },
  {
   "cell_type": "code",
   "execution_count": null,
   "id": "28369dca",
   "metadata": {},
   "outputs": [],
   "source": [
    "def mutate_string(string, position, character):\n",
    "    new_string = string[:position]+character+ string[position+1:]\n",
    "    return new_string\n",
    "\n"
   ]
  },
  {
   "cell_type": "markdown",
   "id": "d8da94fa",
   "metadata": {},
   "source": [
    "#### Find a string"
   ]
  },
  {
   "cell_type": "code",
   "execution_count": null,
   "id": "52febab9",
   "metadata": {},
   "outputs": [],
   "source": [
    "def count_substring(string, sub_string):\n",
    "    count = 0\n",
    "    for i in range(len(string)- len(sub_string)+1):\n",
    "        if string[i:i+len(sub_string)] == sub_string:\n",
    "            count+=1\n",
    "        \n",
    "        \n",
    "    return count\n",
    "\n"
   ]
  },
  {
   "cell_type": "markdown",
   "id": "7f1228e0",
   "metadata": {},
   "source": [
    "#### String Validators"
   ]
  },
  {
   "cell_type": "code",
   "execution_count": null,
   "id": "71e82cbe",
   "metadata": {},
   "outputs": [],
   "source": [
    "if __name__ == '__main__':\n",
    "    s = input()\n",
    "    print(any(map(str.isalnum,s)))\n",
    "    print(any(map(str.isalpha,s)))\n",
    "    print(any(map(str.isdigit,s)))\n",
    "    print(any(map(str.islower,s)))\n",
    "    print(any(map(str.isupper,s)))\n"
   ]
  },
  {
   "cell_type": "markdown",
   "id": "daf84d38",
   "metadata": {},
   "source": [
    "#### Text Wrap"
   ]
  },
  {
   "cell_type": "code",
   "execution_count": null,
   "id": "e5dae753",
   "metadata": {},
   "outputs": [],
   "source": [
    "\n",
    "\n",
    "def wrap(string, max_width):\n",
    "    for i in range(0,len(string), max_width):\n",
    "        STR = string[i:i+max_width]\n",
    "        if len(STR)==max_width:\n",
    "            print(STR)\n",
    "        else:\n",
    "            return(STR)\n",
    "            \n",
    "\n"
   ]
  },
  {
   "cell_type": "markdown",
   "id": "e5e93fb0",
   "metadata": {},
   "source": [
    "#### String Formatting"
   ]
  },
  {
   "cell_type": "code",
   "execution_count": null,
   "id": "3ec649f0",
   "metadata": {},
   "outputs": [],
   "source": [
    "def print_formatted(number):\n",
    "    # your code goes here\n",
    "    space = len(bin(number)[2:])\n",
    "    for i in range (1,number+1):\n",
    "       decimal= str(i)\n",
    "       octal = oct(i)[2:]\n",
    "       hexadecimal= hex(i)[2:].upper()\n",
    "       binary = bin(i)[2:]\n",
    "       print(decimal.rjust(space),octal.rjust(space),hexadecimal.rjust(space),binary.rjust(space))\n",
    "    \n",
    "    \n",
    "\n"
   ]
  },
  {
   "cell_type": "markdown",
   "id": "58f66a6e",
   "metadata": {},
   "source": [
    "#### Capitalize!"
   ]
  },
  {
   "cell_type": "code",
   "execution_count": null,
   "id": "0d3294f8",
   "metadata": {},
   "outputs": [],
   "source": [
    "\n",
    "\n",
    "# Complete the solve function below.\n",
    "def solve(s):\n",
    "    for i in s.split():\n",
    "        s = s.replace(i,i.capitalize())\n",
    "    return s\n",
    "\n",
    "\n"
   ]
  },
  {
   "cell_type": "markdown",
   "id": "4e10fa93",
   "metadata": {},
   "source": [
    "#### sWAP cASE"
   ]
  },
  {
   "cell_type": "code",
   "execution_count": null,
   "id": "260d661a",
   "metadata": {},
   "outputs": [],
   "source": [
    "def swap_case(s):\n",
    "    result=''\n",
    "    for i in s:\n",
    "        if i.isupper()== True:\n",
    "            result+=i.lower()\n",
    "        elif i.islower()== True:\n",
    "            result = result + i.upper()\n",
    "        else:\n",
    "            result+=i\n",
    "    return result\n",
    "\n"
   ]
  },
  {
   "cell_type": "markdown",
   "id": "a267c2b2",
   "metadata": {},
   "source": [
    "## SETS\n"
   ]
  },
  {
   "cell_type": "markdown",
   "id": "25258e98",
   "metadata": {},
   "source": [
    "#### Introduction to Sets"
   ]
  },
  {
   "cell_type": "code",
   "execution_count": null,
   "id": "44d89e86",
   "metadata": {},
   "outputs": [],
   "source": [
    "def average(array):\n",
    "    # your code goes here\n",
    "    summ =  0\n",
    "    new_array = set(array)\n",
    "    for i in new_array:\n",
    "        summ+=i\n",
    "    return (summ/len(new_array))\n",
    "    \n",
    "\n"
   ]
  },
  {
   "cell_type": "markdown",
   "id": "9c3f6f3b",
   "metadata": {},
   "source": [
    "#### Symmetric Difference"
   ]
  },
  {
   "cell_type": "code",
   "execution_count": null,
   "id": "6a525e33",
   "metadata": {},
   "outputs": [],
   "source": [
    "# Enter your code here. Read input from STDIN. Print output to STDOUT\n",
    "M= int(input())\n",
    "M_set = set(map(int,input().split()))\n",
    "N= int(input())\n",
    "N_set = set(map(int,input().split()))\n",
    "diff1 = M_set.difference(N_set)\n",
    "diff2 = N_set.difference(M_set)\n",
    "res = diff1.union(diff2)\n",
    "for i in sorted(res):\n",
    "    print(i)\n"
   ]
  },
  {
   "cell_type": "markdown",
   "id": "2ba60ace",
   "metadata": {},
   "source": [
    "#### Set .add() "
   ]
  },
  {
   "cell_type": "code",
   "execution_count": null,
   "id": "34049080",
   "metadata": {},
   "outputs": [],
   "source": [
    "# Enter your code here. Read input from STDIN. Print output to STDOUT\n",
    "a = set()\n",
    "n = int(input())\n",
    "for i in range(0,n):\n",
    "    a.add(input())\n",
    "print(len(a))\n"
   ]
  },
  {
   "cell_type": "markdown",
   "id": "fde2b308",
   "metadata": {},
   "source": [
    "#### Set .discard(), .remove() & .pop()"
   ]
  },
  {
   "cell_type": "code",
   "execution_count": null,
   "id": "ce4064f1",
   "metadata": {},
   "outputs": [],
   "source": [
    "n = int(input())\n",
    "s = set(map(int, input().split()))\n",
    "\n",
    "for i in range(int(input())):\n",
    "    h = input().split()\n",
    "    if h[0] == 'pop':\n",
    "        s.pop()\n",
    "    elif h[0] == 'remove':\n",
    "        s.remove(int(h[1]))\n",
    "    else:\n",
    "        s.discard(int(h[1]))\n",
    "print(sum(s))\n",
    "\n"
   ]
  },
  {
   "cell_type": "markdown",
   "id": "8583e3f0",
   "metadata": {},
   "source": [
    "#### Set .union() Operation"
   ]
  },
  {
   "cell_type": "code",
   "execution_count": null,
   "id": "01f4a4a6",
   "metadata": {},
   "outputs": [],
   "source": [
    "# Enter your code here. Read input from STDIN. Print output to STDOUT\n",
    "n_E = int(input())\n",
    "E =set(map(int,input().split()))\n",
    "n_F = int(input())\n",
    "F = set(map(int,input().split()))\n",
    "union = F.union(E)\n",
    "print(len(union))\n"
   ]
  },
  {
   "cell_type": "markdown",
   "id": "b2020a94",
   "metadata": {},
   "source": [
    "#### Set .intersection() Operation"
   ]
  },
  {
   "cell_type": "code",
   "execution_count": null,
   "id": "b1d84e8a",
   "metadata": {},
   "outputs": [],
   "source": [
    "# Enter your code here. Read input from STDIN. Print output to STDOUT\n",
    "N_E = int(input())\n",
    "E = set(map(int,input().split()))\n",
    "N_F = int(input())\n",
    "F = set(map(int,input().split()))\n",
    "intersection = E.intersection(F)\n",
    "print(len(intersection))\n"
   ]
  },
  {
   "cell_type": "markdown",
   "id": "51dc1177",
   "metadata": {},
   "source": [
    "#### Set .difference() Operation"
   ]
  },
  {
   "cell_type": "code",
   "execution_count": null,
   "id": "a2513e38",
   "metadata": {},
   "outputs": [],
   "source": [
    "# Enter your code here. Read input from STDIN. Print output to STDOUT\n",
    "N_E = int(input())\n",
    "E = set(map(int,input().split()))\n",
    "N_F = int(input())\n",
    "F = set(map(int,input().split()))\n",
    "difference = E.difference(F)\n",
    "print(len(difference))\n"
   ]
  },
  {
   "cell_type": "markdown",
   "id": "39cfa061",
   "metadata": {},
   "source": [
    "#### Set .symmetric_difference() Operation"
   ]
  },
  {
   "cell_type": "code",
   "execution_count": null,
   "id": "febbbcdf",
   "metadata": {},
   "outputs": [],
   "source": [
    "# Enter your code here. Read input from STDIN. Print output to STDOUT\n",
    "N_E = int(input())\n",
    "E = set(map(int,input().split()))\n",
    "N_F = int(input())\n",
    "F = set(map(int,input().split()))\n",
    "symm_diff =E.symmetric_difference(F)\n",
    "print(len(symm_diff))\n"
   ]
  },
  {
   "cell_type": "markdown",
   "id": "cee90b12",
   "metadata": {},
   "source": [
    "#### Set Mutations"
   ]
  },
  {
   "cell_type": "code",
   "execution_count": null,
   "id": "42e50da0",
   "metadata": {},
   "outputs": [],
   "source": [
    "# Enter your code here. Read input from STDIN. Print output to STDOUT\n",
    "N_A=int(input())\n",
    "A = set(map(int,input().split()))\n",
    "for i in range(int(input())):\n",
    "    o = input().split()\n",
    "    if o[0]=='intersection_update':\n",
    "        s_n = set(map(int,input().split()))\n",
    "        A&=(s_n)\n",
    "    elif o[0]=='update':\n",
    "        s_n = set(map(int,input().split()))\n",
    "        A|=(s_n)\n",
    "    elif o[0]=='symmetric_difference_update': \n",
    "        s_n = set(map(int,input().split()))\n",
    "        A^=(s_n)\n",
    "    else:\n",
    "        s_n = set(map(int,input().split()))\n",
    "        A-=(s_n)\n",
    "print(sum(A))\n",
    "        \n",
    "        \n",
    "        \n",
    "        \n",
    "        \n"
   ]
  },
  {
   "cell_type": "markdown",
   "id": "480fc69f",
   "metadata": {},
   "source": [
    "#### The Captain's Room "
   ]
  },
  {
   "cell_type": "code",
   "execution_count": null,
   "id": "df6db032",
   "metadata": {},
   "outputs": [],
   "source": [
    "# Enter your code here. Read input from STDIN. Print output to STDOUT\n",
    "K = int(input())\n",
    "A = list(map(int,input().split()))\n",
    "B = {}\n",
    "for i in A:\n",
    "    if i not in B:\n",
    "        B[i]= 1\n",
    "    else:\n",
    "        B[i]+=1\n",
    "for i in B:\n",
    "    if B[i]==1:\n",
    "        print(i)\n"
   ]
  },
  {
   "cell_type": "markdown",
   "id": "ceca9dc9",
   "metadata": {},
   "source": [
    "#### Check Subset"
   ]
  },
  {
   "cell_type": "code",
   "execution_count": null,
   "id": "fa4d74d2",
   "metadata": {},
   "outputs": [],
   "source": [
    "# Enter your code here. Read input from STDIN. Print output to STDOUT\n",
    "T = int(input())\n",
    "for i in range(T):\n",
    "    A=int(input())\n",
    "    elem_A=set(map(int,input().split()))\n",
    "    B = int(input())\n",
    "    elem_B=set(map(int,input().split()))\n",
    "    count = 0\n",
    "    for i in elem_A:\n",
    "        if i not in elem_B:\n",
    "            count+=1\n",
    "        else:\n",
    "            count+=0\n",
    "    if count==0:\n",
    "        print(True)\n",
    "    else:\n",
    "        print(False)\n",
    "        \n",
    "            \n",
    "    \n"
   ]
  },
  {
   "cell_type": "markdown",
   "id": "38a127bd",
   "metadata": {},
   "source": [
    "#### Check Strict Superset"
   ]
  },
  {
   "cell_type": "code",
   "execution_count": null,
   "id": "1bd57335",
   "metadata": {},
   "outputs": [],
   "source": [
    "# Enter your code here. Read input from STDIN. Print output to STDOUT\n",
    "A = set(map(int,input().split()))\n",
    "n = int(input())\n",
    "count = 0\n",
    "for i in range(n):\n",
    "    elem_i = set(map(int,input().split()))\n",
    "    if A.issuperset(elem_i)== True:\n",
    "        count += 0\n",
    "    else:\n",
    "        count += 1\n",
    "    \n",
    "if count == 0 :\n",
    "    print(True)\n",
    "else:\n",
    "    print(False)\n",
    "    \n",
    "    \n"
   ]
  },
  {
   "cell_type": "markdown",
   "id": "eb754ace",
   "metadata": {},
   "source": [
    "#### No Idea!"
   ]
  },
  {
   "cell_type": "code",
   "execution_count": null,
   "id": "725b3b8f",
   "metadata": {},
   "outputs": [],
   "source": [
    "# Enter your code here. Read input from STDIN. Print output to STDOUT\n",
    "n_m = map(int,input().split())\n",
    "arr = list(map(int,input().split()))\n",
    "A = set(map(int,input().split()))\n",
    "B = set(map(int,input().split()))\n",
    "count = 0\n",
    "for i in arr:\n",
    "    if i in A:\n",
    "        count += 1\n",
    "    elif i in B:\n",
    "        count += -1\n",
    "    else:\n",
    "        count+= 0\n",
    "print(count)\n"
   ]
  },
  {
   "cell_type": "markdown",
   "id": "17b5b653",
   "metadata": {},
   "source": [
    "## COLLECTIONS"
   ]
  },
  {
   "cell_type": "markdown",
   "id": "a2d17dc6",
   "metadata": {},
   "source": [
    "##### PILLING UP\n"
   ]
  },
  {
   "cell_type": "code",
   "execution_count": null,
   "id": "e7e4eb9d",
   "metadata": {},
   "outputs": [],
   "source": [
    "# Enter your code here. Read input from STDIN. Print output to STDOUT\n",
    "T = int(input())\n",
    "for i in range(T):\n",
    "    n = int(input())\n",
    "    blocks = list(map(int,input().split()))\n",
    "    elem_min = blocks.index(min(blocks))\n",
    "    left_blocks, right_blocks= blocks[:elem_min], blocks[elem_min:]\n",
    "    left = sorted(left_blocks,reverse=True)\n",
    "    right = sorted(right_blocks) \n",
    "    \n",
    "    if left== left_blocks and right == right_blocks :\n",
    "        print('Yes')\n",
    "    else:\n",
    "        print('No')\n",
    "        \n"
   ]
  },
  {
   "cell_type": "markdown",
   "id": "fd025448",
   "metadata": {},
   "source": [
    "#### DefaultDict Tutorial"
   ]
  },
  {
   "cell_type": "code",
   "execution_count": null,
   "id": "fc91a2f4",
   "metadata": {},
   "outputs": [],
   "source": [
    "# Enter your code here. Read input from STDIN. Print output to STDOUT\n",
    "n,m = map(int,input().split())\n",
    "from collections import defaultdict\n",
    "d = defaultdict(list)\n",
    "for i in range(1,n+1):\n",
    "    d[input()].append(i)\n",
    "for j in range(1,m+1):\n",
    "    b = input()\n",
    "    if len(d[b])>0:\n",
    "        print(' '.join(str(s) for s in d[b]))\n",
    "    else:\n",
    "        print(-1)\n"
   ]
  },
  {
   "cell_type": "markdown",
   "id": "659eec67",
   "metadata": {},
   "source": [
    "#### Collections.namedtuple()"
   ]
  },
  {
   "cell_type": "code",
   "execution_count": null,
   "id": "9186b2d3",
   "metadata": {},
   "outputs": [],
   "source": [
    "# Enter your code here. Read input from STDIN. Print output to STDOUT\n",
    "n = int(input())\n",
    "cols=input().split()\n",
    "info = [input().split() for i in range(n)]\n",
    "mark = cols.index('MARKS')\n",
    "somma = 0\n",
    "\n",
    "\n",
    "for i in info:\n",
    "    somma+=int(i[mark])\n",
    "print(somma/n)\n",
    "    \n"
   ]
  },
  {
   "cell_type": "markdown",
   "id": "5a2723c2",
   "metadata": {},
   "source": [
    "#### Collections.OrderedDict()"
   ]
  },
  {
   "cell_type": "code",
   "execution_count": null,
   "id": "878bea9d",
   "metadata": {},
   "outputs": [],
   "source": [
    "# Enter your code here. Read input from STDIN. Print output to STDOUT\n",
    "from collections import OrderedDict\n",
    "N = int(input())\n",
    "\n",
    "d = OrderedDict()\n",
    "for i in range(N):\n",
    "    items = input().split()\n",
    "    price = int(items[-1])\n",
    "    item_name = ' '.join(items[:-1])\n",
    "    if d.get(item_name):\n",
    "        d[item_name]+=price\n",
    "    else:\n",
    "        d[item_name]= price\n",
    "for k,v in d.items():\n",
    "    print (k,v)\n"
   ]
  },
  {
   "cell_type": "markdown",
   "id": "9bcae6c3",
   "metadata": {},
   "source": [
    "#### Word Order"
   ]
  },
  {
   "cell_type": "code",
   "execution_count": null,
   "id": "48800044",
   "metadata": {},
   "outputs": [],
   "source": [
    "# Enter your code here. Read input from STDIN. Print output to STDOUT\n",
    "from collections import OrderedDict\n",
    "N = int(input())\n",
    "l = []\n",
    "d ={}\n",
    "\n",
    "for i in range(N):\n",
    "    a = input().strip()\n",
    "    \n",
    "    if a  in d:\n",
    "        d[a]+=1\n",
    "    else:\n",
    "        d[a]=1\n",
    "        l.append(a)\n",
    "print(len(l))\n",
    "print(' '.join(str(k) for k in d.values()))\n"
   ]
  },
  {
   "cell_type": "markdown",
   "id": "5cbe38e0",
   "metadata": {},
   "source": [
    "#### Word Order"
   ]
  },
  {
   "cell_type": "code",
   "execution_count": null,
   "id": "b94d8911",
   "metadata": {},
   "outputs": [],
   "source": [
    "# Enter your code here. Read input from STDIN. Print output to STDOUT\n",
    "from collections import OrderedDict\n",
    "N = int(input())\n",
    "l = []\n",
    "d ={}\n",
    "\n",
    "for i in range(N):\n",
    "    a = input().strip()\n",
    "    \n",
    "    if a  in d:\n",
    "        d[a]+=1\n",
    "    else:\n",
    "        d[a]=1\n",
    "        l.append(a)\n",
    "print(len(l))\n",
    "print(' '.join(str(k) for k in d.values()))\n"
   ]
  },
  {
   "cell_type": "markdown",
   "id": "4cebfe0d",
   "metadata": {},
   "source": [
    "#### Collections.deque()"
   ]
  },
  {
   "cell_type": "code",
   "execution_count": null,
   "id": "2ea92327",
   "metadata": {},
   "outputs": [],
   "source": [
    "# Enter your code here. Read input from STDIN. Print output to STDOUT\n",
    "from collections import deque\n",
    "\n",
    "\n",
    "l = deque()\n",
    "for i in range(int(input())):\n",
    "    a = input().split()\n",
    "    if a[0]=='append':\n",
    "        l.append(int(a[1]))\n",
    "    elif a[0]=='appendleft':\n",
    "        l.appendleft(int(a[1]))\n",
    "    elif a[0] =='pop':\n",
    "        l.pop() \n",
    "    else:\n",
    "        l.popleft()\n",
    "print(' '.join(str(i) for i in l))\n"
   ]
  },
  {
   "cell_type": "markdown",
   "id": "d1ac3582",
   "metadata": {},
   "source": [
    "#### Company Logo"
   ]
  },
  {
   "cell_type": "code",
   "execution_count": null,
   "id": "daca5df1",
   "metadata": {},
   "outputs": [],
   "source": [
    "#!/bin/python3\n",
    "\n",
    "import math\n",
    "import os\n",
    "import random\n",
    "import re\n",
    "import sys\n",
    "\n",
    "\n",
    "\n",
    "if __name__ == '__main__':\n",
    "    s = input()\n",
    "    from collections import Counter\n",
    "    \n",
    "    s_sorted = sorted(s)\n",
    "    \n",
    "    a = Counter(list(s_sorted))\n",
    "    for k, v in a.most_common(3):\n",
    "        print(k, v)\n"
   ]
  },
  {
   "cell_type": "markdown",
   "id": "c0c5c832",
   "metadata": {},
   "source": [
    "#### collections.Counter()"
   ]
  },
  {
   "cell_type": "code",
   "execution_count": null,
   "id": "3d150c68",
   "metadata": {},
   "outputs": [],
   "source": [
    "# Enter your code here. Read input from STDIN. Print output to STDOUT\n",
    "from collections import Counter\n",
    "X = int(input())\n",
    "avai = Counter(map(int,input().split()))\n",
    "N = int(input())\n",
    "earns = 0\n",
    "for i in range(N):\n",
    "    a = list(map(int,input().split()))\n",
    "    size =a[0]\n",
    "    price = int(a[1])\n",
    "    if avai[size]:\n",
    "        earns += price\n",
    "        avai[size]-=1\n",
    "print(earns)\n"
   ]
  },
  {
   "cell_type": "code",
   "execution_count": null,
   "id": "b34947be",
   "metadata": {},
   "outputs": [],
   "source": []
  },
  {
   "cell_type": "markdown",
   "id": "2840c6a1",
   "metadata": {},
   "source": [
    "## DATA AND TIME"
   ]
  },
  {
   "cell_type": "markdown",
   "id": "dff41730",
   "metadata": {},
   "source": [
    "#### Calendar Module"
   ]
  },
  {
   "cell_type": "code",
   "execution_count": null,
   "id": "7056e8f2",
   "metadata": {},
   "outputs": [],
   "source": [
    "# Enter your code here. Read input from STDIN. Print output to STDOUT\n",
    "import calendar\n",
    "MM,DD,YYYY= map(int,input().split())\n",
    "print(calendar.day_name[calendar.weekday(YYYY,MM,DD)].upper())\n"
   ]
  },
  {
   "cell_type": "markdown",
   "id": "947598b8",
   "metadata": {},
   "source": [
    "#### TIME DELTA"
   ]
  },
  {
   "cell_type": "code",
   "execution_count": null,
   "id": "f6fac179",
   "metadata": {},
   "outputs": [],
   "source": [
    "#!/bin/python3\n",
    "\n",
    "import math\n",
    "import os\n",
    "import random\n",
    "import re\n",
    "import sys\n",
    "import datetime\n",
    "# Complete the time_delta function below.\n",
    "def time_delta(t1, t2):\n",
    "    format='%a %d %b %Y %H:%M:%S %z'\n",
    "    new_t1=datetime.datetime.strptime(t1,format)\n",
    "    new_t2 =datetime.datetime.strptime(t2,format)\n",
    "    return str(int(abs((new_t1-new_t2).total_seconds())))\n",
    "    \n",
    "\n",
    "if __name__ == '__main__':\n",
    "    fptr = open(os.environ['OUTPUT_PATH'], 'w')\n",
    "\n",
    "    t = int(input())\n",
    "\n",
    "    for t_itr in range(t):\n",
    "        t1 = input()\n",
    "\n",
    "        t2 = input()\n",
    "\n",
    "        delta = time_delta(t1, t2)\n",
    "\n",
    "        fptr.write(delta + '\\n')\n",
    "\n",
    "    fptr.close()"
   ]
  },
  {
   "cell_type": "markdown",
   "id": "92cb9e6a",
   "metadata": {},
   "source": [
    "## EXCEPTIONS"
   ]
  },
  {
   "cell_type": "code",
   "execution_count": null,
   "id": "a292e8ab",
   "metadata": {},
   "outputs": [],
   "source": [
    "# Enter your code here. Read input from STDIN. Print output to STDOUT\n",
    "T = int(input())\n",
    "for i in range(T):\n",
    "    try:\n",
    "        a,b = map(int,input().split())\n",
    "        print (a//b)\n",
    "    except ValueError as v:\n",
    "        print('Error Code:',v)  \n",
    "    \n",
    "    except ZeroDivisionError as e:\n",
    "        print ('Error Code:',e)\n",
    "    \n"
   ]
  },
  {
   "cell_type": "markdown",
   "id": "f8e8bc56",
   "metadata": {},
   "source": [
    "## BUILT-INS"
   ]
  },
  {
   "cell_type": "markdown",
   "id": "7a2feae6",
   "metadata": {},
   "source": [
    "#### Zipped!"
   ]
  },
  {
   "cell_type": "code",
   "execution_count": null,
   "id": "785f3fd9",
   "metadata": {},
   "outputs": [],
   "source": [
    "# Enter your code here. Read input from STDIN. Print output to STDOUT\n",
    "\n",
    "marks = []\n",
    "for i in range(int(input().split()[1])):\n",
    "    sub_i=[]\n",
    "    for j in input().split():\n",
    "        sub_i.append(float(j))\n",
    "    marks.append(sub_i)\n",
    "for i in zip(*marks):\n",
    "    print(sum(i)/len(i))   \n",
    "        \n",
    "\n",
    "               \n",
    "    \n",
    "    \n"
   ]
  },
  {
   "cell_type": "markdown",
   "id": "ecae0fe4",
   "metadata": {},
   "source": [
    "#### Athlete Sort"
   ]
  },
  {
   "cell_type": "code",
   "execution_count": null,
   "id": "66a864e0",
   "metadata": {},
   "outputs": [],
   "source": [
    "#!/bin/python3\n",
    "\n",
    "import math\n",
    "import os\n",
    "import random\n",
    "import re\n",
    "import sys\n",
    "\n",
    "\n",
    "\n",
    "if __name__ == '__main__':\n",
    "    nm = input().split()\n",
    "\n",
    "    n = int(nm[0])\n",
    "\n",
    "    m = int(nm[1])\n",
    "\n",
    "    arr = []\n",
    "\n",
    "    for _ in range(n):\n",
    "        arr.append(list(map(int, input().rstrip().split())))\n",
    "    k= int(input())\n",
    "    a = (sorted(arr,key=lambda x:x[k]))\n",
    "    \n",
    "    \n",
    "    for i in a:\n",
    "        print(*i)\n",
    "\n",
    "    \n",
    "    \n",
    "   \n"
   ]
  },
  {
   "cell_type": "markdown",
   "id": "b43b5b24",
   "metadata": {},
   "source": [
    "#### ginortS"
   ]
  },
  {
   "cell_type": "code",
   "execution_count": null,
   "id": "efc1aa19",
   "metadata": {},
   "outputs": [],
   "source": [
    "# Enter your code here. Read input from STDIN. Print output to STDOUT\n",
    "s = list(input())\n",
    "\n",
    "\n",
    "l = [i for i in s if i.isalpha() and i.islower()]\n",
    "u = [i for i in s if i.isalpha() and i.isupper()]\n",
    "e = [i for i in s if i.isdigit() and int(i)%2 == 0]\n",
    "o = [ i for i in s if i.isdigit() and not int(i)%2 ==0]\n",
    "print(''.join(sorted(l)+sorted(u)+ sorted(o)+ sorted(e)))\n",
    "\n",
    "\n"
   ]
  },
  {
   "cell_type": "markdown",
   "id": "ccf8d6e4",
   "metadata": {},
   "source": [
    "## PYTHON FUNCTIONALS"
   ]
  },
  {
   "cell_type": "markdown",
   "id": "ad10d011",
   "metadata": {},
   "source": [
    "#### Map and Lambda Function"
   ]
  },
  {
   "cell_type": "code",
   "execution_count": null,
   "id": "5d0201d5",
   "metadata": {},
   "outputs": [],
   "source": [
    "cube = lambda x:x**3# complete the lambda function \n",
    "\n",
    "def fibonacci(n):\n",
    "    a=0\n",
    "    b=1\n",
    "    l = []\n",
    "    for i in range (n):\n",
    "        l.append(a)\n",
    "        a,b =b,a+b\n",
    "        \n",
    "        \n",
    "    return (l)        \n",
    "        \n",
    "    # return a list of fibonacci numbers\n",
    "\n"
   ]
  },
  {
   "cell_type": "markdown",
   "id": "69706892",
   "metadata": {},
   "source": [
    "## XML"
   ]
  },
  {
   "cell_type": "markdown",
   "id": "aa1a9b68",
   "metadata": {},
   "source": [
    "#### XML 1 - Find the Score"
   ]
  },
  {
   "cell_type": "code",
   "execution_count": null,
   "id": "e4a1cda6",
   "metadata": {},
   "outputs": [],
   "source": [
    "\n",
    "\n",
    "def get_attr_number(node):\n",
    "    a= sum([get_attr_number(i) for i in node])\n",
    "    \n",
    "    \n",
    "    return len(node.attrib)  + a\n",
    "    \n",
    "    \n",
    "    # your code goes here\n",
    "    \n",
    "    \n",
    "\n"
   ]
  },
  {
   "cell_type": "markdown",
   "id": "03d63597",
   "metadata": {},
   "source": [
    "# Closures and Decorations"
   ]
  },
  {
   "cell_type": "markdown",
   "id": "06229b84",
   "metadata": {},
   "source": [
    "#### Standardize Mobile Number Using Decorators"
   ]
  },
  {
   "cell_type": "code",
   "execution_count": null,
   "id": "73ba292e",
   "metadata": {},
   "outputs": [],
   "source": [
    "def wrapper(f):\n",
    "    def fun(l):\n",
    "        # complete the function\n",
    "       f(['+91 ' + i[-10:-5]+' '+ i[-5:] for i in l])\n",
    "        \n",
    "        \n",
    "    return fun\n",
    "\n",
    "@wrapper\n",
    "def sort_phone(l):\n",
    "    print(*sorted(l), sep='\\n')\n",
    "\n",
    "if __name__ == '__main__':\n",
    "    l = [input() for _ in range(int(input()))]\n",
    "    sort_phone(l) \n",
    "\n",
    "\n"
   ]
  },
  {
   "cell_type": "markdown",
   "id": "c788574e",
   "metadata": {},
   "source": [
    "#### Decorators 2 - Name Directory"
   ]
  },
  {
   "cell_type": "code",
   "execution_count": null,
   "id": "03f0326e",
   "metadata": {},
   "outputs": [],
   "source": [
    "import operator\n",
    "def person_lister(f):\n",
    "    def inner(people):\n",
    "        # complete the function\n",
    "        for j in people:\n",
    "            j[2]=float(j[2])\n",
    "        people.sort(key=operator.itemgetter(2))\n",
    "        return [f(i) for i in people]\n",
    "    \n",
    "      \n",
    "    \n",
    "    \n",
    "    return inner\n",
    "\n",
    "\n",
    "@person_lister\n",
    "def name_format(person):\n",
    "    return (\"Mr. \" if person[3] == \"M\" else \"Ms. \") + person[0] + \" \" + person[1]\n",
    "\n",
    "if __name__ == '__main__':\n",
    "    people = [input().split() for i in range(int(input()))]\n",
    "    print(*name_format(people), sep='\\n')"
   ]
  },
  {
   "cell_type": "markdown",
   "id": "d124b725",
   "metadata": {},
   "source": [
    "## NUMPY"
   ]
  },
  {
   "cell_type": "markdown",
   "id": "95acf009",
   "metadata": {},
   "source": [
    "#### Arrays"
   ]
  },
  {
   "cell_type": "code",
   "execution_count": null,
   "id": "c49fe23c",
   "metadata": {},
   "outputs": [],
   "source": [
    "\n",
    "\n",
    "def arrays(arr):\n",
    "    a = numpy.array(arr,float)\n",
    "    a=a[::-1]\n",
    "    return a\n",
    "    # complete this function\n",
    "    # use numpy.array\n",
    "\n"
   ]
  },
  {
   "cell_type": "markdown",
   "id": "eb23c533",
   "metadata": {},
   "source": [
    "#### Shape and Reshape"
   ]
  },
  {
   "cell_type": "code",
   "execution_count": null,
   "id": "13237626",
   "metadata": {},
   "outputs": [],
   "source": [
    "# Enter your code here. Read input from STDIN. Print output to STDOUT\n",
    "import numpy as np\n",
    "my_arr=np.array(input().split(),int)\n",
    "print(np.reshape(my_arr,(3,3)))\n"
   ]
  },
  {
   "cell_type": "markdown",
   "id": "1a5861a9",
   "metadata": {},
   "source": [
    "#### Transpose and Flatten"
   ]
  },
  {
   "cell_type": "code",
   "execution_count": null,
   "id": "34df95ae",
   "metadata": {},
   "outputs": [],
   "source": [
    "\n",
    "import numpy as np\n",
    "N,M = map(int,input().split())\n",
    "a = []\n",
    "for i in range(N):\n",
    "    a.append(list(map(int,input().split())))\n",
    "arr = np.array(a)\n",
    "print (np.transpose(arr))\n",
    "print(arr.flatten())\n",
    "\n",
    "\n"
   ]
  },
  {
   "cell_type": "markdown",
   "id": "5e90445e",
   "metadata": {},
   "source": [
    "#### Concatenate"
   ]
  },
  {
   "cell_type": "code",
   "execution_count": null,
   "id": "0a700bf2",
   "metadata": {},
   "outputs": [],
   "source": [
    "import numpy as np\n",
    "N,M,P = map(int,input().split())\n",
    "arr_1 = []\n",
    "for i in range(N):\n",
    "    arr_1.append(list(map(int,input().split())))\n",
    "arr_2= []\n",
    "for j in range(M):\n",
    "    arr_2.append(list(map(int,input().split())))\n",
    "array1 = np.array(arr_1)\n",
    "array2 = np.array(arr_2)\n",
    "print(np.concatenate((array1,array2),axis = 0))\n",
    "\n"
   ]
  },
  {
   "cell_type": "markdown",
   "id": "972796fb",
   "metadata": {},
   "source": [
    "#### Zeros and Ones"
   ]
  },
  {
   "cell_type": "code",
   "execution_count": null,
   "id": "e7703b2f",
   "metadata": {},
   "outputs": [],
   "source": [
    "import numpy as np\n",
    "N = list((map(int,input().split())))\n",
    "print(np.zeros(N,int),np.ones(N,int),sep='\\n')\n",
    "\n",
    "\n",
    "\n"
   ]
  },
  {
   "cell_type": "markdown",
   "id": "ec043d60",
   "metadata": {},
   "source": [
    "#### Eye and Identity"
   ]
  },
  {
   "cell_type": "code",
   "execution_count": null,
   "id": "bd9b30ab",
   "metadata": {},
   "outputs": [],
   "source": [
    "import numpy as np\n",
    "np.set_printoptions(legacy='1.13')\n",
    "N,M = map(int,input().split())\n",
    "print(np.eye(N,M))\n",
    "\n",
    "\n"
   ]
  },
  {
   "cell_type": "markdown",
   "id": "8933894f",
   "metadata": {},
   "source": [
    "#### Array Mathematics"
   ]
  },
  {
   "cell_type": "code",
   "execution_count": null,
   "id": "c4a586fc",
   "metadata": {},
   "outputs": [],
   "source": [
    "import numpy as np\n",
    "N,M = map(int, input().split())\n",
    "A = []\n",
    "B = []\n",
    "for _ in range(N):\n",
    "    A.append(input().split())\n",
    "A = np.array(A, int)\n",
    "for _ in range(N):\n",
    "    B.append(input().split())\n",
    "B = np.array(B, int)\n",
    "print(A+B, A-B, A*B, A//B, A%B, A**B, sep='\\n')\n",
    "\n"
   ]
  },
  {
   "cell_type": "markdown",
   "id": "32401e73",
   "metadata": {},
   "source": [
    "#### Floor, Ceil and Rint"
   ]
  },
  {
   "cell_type": "code",
   "execution_count": null,
   "id": "29f0b023",
   "metadata": {},
   "outputs": [],
   "source": [
    "import numpy as np\n",
    "np.set_printoptions(legacy='1.13')\n",
    "arr_A=np.array(input().split(),float)\n",
    "print(np.floor(arr_A),np.ceil(arr_A),np.rint(arr_A), sep='\\n')\n",
    "\n",
    "\n",
    "\n"
   ]
  },
  {
   "cell_type": "markdown",
   "id": "0827970f",
   "metadata": {},
   "source": [
    "#### Sum and Prod"
   ]
  },
  {
   "cell_type": "code",
   "execution_count": null,
   "id": "4ecfa26b",
   "metadata": {},
   "outputs": [],
   "source": [
    "import numpy as np\n",
    "N,M = map(int,input().split())\n",
    "a=[]\n",
    "for i in range(N):\n",
    "    a.append(np.array(input().split(),int))\n",
    "\n",
    "print(np.prod(np.sum(a,axis=0)))\n"
   ]
  },
  {
   "cell_type": "markdown",
   "id": "96da624e",
   "metadata": {},
   "source": [
    "#### Min and Max"
   ]
  },
  {
   "cell_type": "code",
   "execution_count": null,
   "id": "fdf804eb",
   "metadata": {},
   "outputs": [],
   "source": [
    "import numpy as np\n",
    "N,M = map(int,input().split())\n",
    "a =[]\n",
    "for i in range(N):\n",
    "    a.append(input().split())\n",
    "arr=np.array(a,int)\n",
    "print(np.max(np.min(arr,axis=1)))\n",
    "\n",
    "\n"
   ]
  },
  {
   "cell_type": "markdown",
   "id": "5b9f04ad",
   "metadata": {},
   "source": [
    "#### Mean, Var, and Std"
   ]
  },
  {
   "cell_type": "code",
   "execution_count": null,
   "id": "0ec30499",
   "metadata": {},
   "outputs": [],
   "source": [
    "import numpy as np\n",
    "N,M = map(int,input().split())\n",
    "a = []\n",
    "for i in range(N):\n",
    "    a.append(input().split())\n",
    "arr=np.array(a,int)\n",
    "print(np.mean(arr,axis=1),np.var(arr,axis=0),round(np.std(arr),11),sep='\\n')\n",
    "\n",
    "\n",
    "\n"
   ]
  },
  {
   "cell_type": "markdown",
   "id": "5b6a64d7",
   "metadata": {},
   "source": [
    "#### Dot and Cross"
   ]
  },
  {
   "cell_type": "code",
   "execution_count": null,
   "id": "604228ca",
   "metadata": {},
   "outputs": [],
   "source": [
    "import numpy as np\n",
    "N = int(input())\n",
    "A = np.array([list(map(int,input().split())) for i in range(N)])\n",
    "B = np.array([list(map(int,input().split())) for i in range(N)])\n",
    "print(np.dot(A,B))\n",
    "\n",
    "\n"
   ]
  },
  {
   "cell_type": "markdown",
   "id": "eb465159",
   "metadata": {},
   "source": [
    "#### Inner and Outer"
   ]
  },
  {
   "cell_type": "code",
   "execution_count": null,
   "id": "8ebb23ab",
   "metadata": {},
   "outputs": [],
   "source": [
    "import numpy as np\n",
    "A = np.array(list(map(int,input().split())))\n",
    "B = np.array(list(map(int,input().split())))\n",
    "print(np.inner(A,B),np.outer(A,B),sep='\\n')\n",
    "\n",
    "\n",
    "\n"
   ]
  },
  {
   "cell_type": "markdown",
   "id": "e851b4a0",
   "metadata": {},
   "source": [
    "#### Polynomials"
   ]
  },
  {
   "cell_type": "code",
   "execution_count": null,
   "id": "a87edfe4",
   "metadata": {},
   "outputs": [],
   "source": [
    "import numpy as np\n",
    "print(np.polyval(list(map(float,input().split())),float(input())))\n",
    "\n",
    "\n",
    "\n",
    "\n"
   ]
  },
  {
   "cell_type": "markdown",
   "id": "e7b394a8",
   "metadata": {},
   "source": [
    "#### Linear Algebra"
   ]
  },
  {
   "cell_type": "code",
   "execution_count": null,
   "id": "af5ef279",
   "metadata": {},
   "outputs": [],
   "source": [
    "import numpy as np\n",
    "N = int(input())\n",
    "A=np.array([list(input().split()) for i in range(N)],float)\n",
    "print(round(np.linalg.det(A),2))\n",
    "\n",
    "\n"
   ]
  },
  {
   "cell_type": "markdown",
   "id": "56f1de7a",
   "metadata": {},
   "source": [
    "## REGEX AND PARSING CHALLENGES"
   ]
  },
  {
   "cell_type": "markdown",
   "id": "f211b84d",
   "metadata": {},
   "source": [
    "#### Detect Floating Point Number"
   ]
  },
  {
   "cell_type": "code",
   "execution_count": null,
   "id": "5cbbdb8e",
   "metadata": {},
   "outputs": [],
   "source": [
    "# Enter your code here. Read input from STDIN. Print output to STDOUT\n",
    "import re\n",
    "T=int(input())\n",
    "for i in range(T):\n",
    "    if re.match('^[-+]?[0-9]*\\.[0-9]+$',input()):\n",
    "        print(True)\n",
    "    else:\n",
    "        print(False)\n"
   ]
  },
  {
   "cell_type": "markdown",
   "id": "d49dd6dd",
   "metadata": {},
   "source": [
    "#### Re.split()"
   ]
  },
  {
   "cell_type": "code",
   "execution_count": null,
   "id": "b4873753",
   "metadata": {},
   "outputs": [],
   "source": [
    "regex_pattern = r\"\\D+\" # Do not delete 'r'. \n",
    "# '\\D+' matches any characters that is not a digit and + quantifier matches 1 or more of the preceding token\n"
   ]
  },
  {
   "cell_type": "markdown",
   "id": "961aaa6f",
   "metadata": {},
   "source": [
    "#### Re.findall() & Re.finditer()"
   ]
  },
  {
   "cell_type": "code",
   "execution_count": null,
   "id": "9a9d9c76",
   "metadata": {},
   "outputs": [],
   "source": [
    "# Enter your code here. Read input from STDIN. Print output to STDOUT\n",
    "import re\n",
    "S = input()\n",
    "a = re.findall(r'(?<=[^aeiouAEIOU])([aeiouAEIOU]{2,})(?=[^aeiouAEIOU])',S)\n",
    "if len(a)==0:\n",
    "    print(-1)\n",
    "else:\n",
    "    for i in a:\n",
    "        print(i,end='\\n')\n",
    "\n",
    "     \n",
    "        \n"
   ]
  },
  {
   "cell_type": "markdown",
   "id": "5d305a29",
   "metadata": {},
   "source": [
    "#### Group(), Groups() & Groupdict()"
   ]
  },
  {
   "cell_type": "code",
   "execution_count": null,
   "id": "fa55759c",
   "metadata": {},
   "outputs": [],
   "source": [
    "# Enter your code here. Read input from STDIN. Print output to STDOUT\n",
    "import re\n",
    "S = input()\n",
    "a = re.findall('[a-zA-Z0-9]',S)\n",
    "l=[]\n",
    "for i in range(len(a)-1):\n",
    "    if a[i]==a[i+1]:\n",
    "        print(a[i])\n",
    "        l.append(a[i])\n",
    "        break\n",
    "if len(l)==0:\n",
    "    print(-1)\n",
    "\n",
    "        \n"
   ]
  },
  {
   "cell_type": "markdown",
   "id": "0f9620f9",
   "metadata": {},
   "source": [
    "#### Regex Substitution"
   ]
  },
  {
   "cell_type": "code",
   "execution_count": null,
   "id": "c1477e30",
   "metadata": {},
   "outputs": [],
   "source": [
    "# Enter your code here. Read input from STDIN. Print output to STDOUT\n",
    "import re\n",
    "N =int(input())\n",
    "for i in range(N):\n",
    "    a = input()\n",
    "    a = re.sub(r'\\ \\&\\&\\ ',' and ',a)\n",
    "    a = re.sub(r'\\ \\|\\|\\ ', ' or ',a)\n",
    "    a = re.sub(r'\\ \\&\\&\\ ',' and ',a)\n",
    "    a = re.sub(r'\\ \\|\\|\\ ', ' or ',a)\n",
    "    print(a)\n"
   ]
  },
  {
   "cell_type": "markdown",
   "id": "576e442e",
   "metadata": {},
   "source": [
    "#### Re.start() & Re.end()"
   ]
  },
  {
   "cell_type": "code",
   "execution_count": null,
   "id": "b0b07210",
   "metadata": {},
   "outputs": [],
   "source": [
    "# Enter your code here. Read input from STDIN. Print output to STDOUT\n",
    "import re\n",
    "S = input()\n",
    "k = input()\n",
    "if re.search(r''+k+'',S):\n",
    "    for i in re.finditer(r'(?=('+k+'))',S):\n",
    "        print(f\"({i.start(1)}, {i.end(1)-1})\")\n",
    "else:\n",
    "    print((-1,-1))\n",
    "\n",
    "        \n",
    "        \n",
    "    \n"
   ]
  },
  {
   "cell_type": "markdown",
   "id": "938a05e7",
   "metadata": {},
   "source": [
    "#### Regex Substitution"
   ]
  },
  {
   "cell_type": "code",
   "execution_count": null,
   "id": "18af2d52",
   "metadata": {},
   "outputs": [],
   "source": [
    "# Enter your code here. Read input from STDIN. Print output to STDOUT\n",
    "import re\n",
    "N =int(input())\n",
    "def b(string):\n",
    "    if string.group(0)=='&&':\n",
    "        return 'and'\n",
    "    else:\n",
    "        return 'or'\n",
    "    \n",
    "for i in range(N):\n",
    "    a = input()\n",
    "    a=re.sub('(?<= )(\\|\\||&&)(?= )',b,a)\n",
    "    \n",
    "    print(a)\n"
   ]
  },
  {
   "cell_type": "markdown",
   "id": "01018ad2",
   "metadata": {},
   "source": [
    "#### Validating phone numbers"
   ]
  },
  {
   "cell_type": "code",
   "execution_count": null,
   "id": "afecd1fd",
   "metadata": {},
   "outputs": [],
   "source": [
    "# Enter your code here. Read input from STDIN. Print output to STDOUT\n",
    "import re\n",
    "N = int(input())\n",
    "for i in range(N):\n",
    "    a =(input())\n",
    "    if re.match(r'^[789][0-9]{9}$',a):\n",
    "        print('YES')\n",
    "\n",
    "    else:\n",
    "        print('NO')\n",
    "        \n"
   ]
  },
  {
   "cell_type": "markdown",
   "id": "d45127e9",
   "metadata": {},
   "source": [
    "#### Validating Roman Numerals"
   ]
  },
  {
   "cell_type": "code",
   "execution_count": null,
   "id": "fe5207ab",
   "metadata": {},
   "outputs": [],
   "source": [
    "regex_pattern = r\"(M{0,3})(C[DM]|D?C{0,3})(X[LC]|L?X{0,3})(I[XV]|V?I{0,3})$\"\t# Do not delete 'r'.\n",
    "import re\n",
    "print(str(bool(re.match(regex_pattern, input()))))\n"
   ]
  },
  {
   "cell_type": "markdown",
   "id": "61ceb853",
   "metadata": {},
   "source": [
    "#### Validating and Parsing Email Addresses"
   ]
  },
  {
   "cell_type": "code",
   "execution_count": null,
   "id": "8ba234ab",
   "metadata": {},
   "outputs": [],
   "source": [
    "# Enter your code here. Read input from STDIN. Print output to STDOUT\n",
    "import re\n",
    "import email.utils\n",
    "n = int(input())\n",
    "email_pattern= re.compile(\"<[a-z][a-zA-z0-9\\-\\_\\.]+\\@[A-Za-z]+\\.[a-zA-Z]{0,3}>\")\n",
    "for i in range(n):\n",
    "    a,b = map(str,input().split())\n",
    "    if re.match(email_pattern,b):\n",
    "        print(a,b)\n",
    "    \n"
   ]
  },
  {
   "cell_type": "markdown",
   "id": "fe41a39c",
   "metadata": {},
   "source": [
    "#### Hex Color Code"
   ]
  },
  {
   "cell_type": "code",
   "execution_count": null,
   "id": "aab24aeb",
   "metadata": {},
   "outputs": [],
   "source": [
    "# Enter your code here. Read input from STDIN. Print output to STDOUT\n",
    "import re\n",
    "N = int(input())\n",
    "HEX_pattern='#[0-9a-fA-F]{3,6}'\n",
    "c=0                   \n",
    "for i in range(N):\n",
    "    a = input()\n",
    "    if '{' in a:\n",
    "        c = 1\n",
    "    elif '}' in a:\n",
    "        c = 0\n",
    "    elif c==1 :\n",
    "        for i in re.findall(HEX_pattern, a):\n",
    "            print(i)\n"
   ]
  },
  {
   "cell_type": "markdown",
   "id": "3d4d3798",
   "metadata": {},
   "source": [
    "#### Validating UID "
   ]
  },
  {
   "cell_type": "code",
   "execution_count": null,
   "id": "1a32e45e",
   "metadata": {},
   "outputs": [],
   "source": [
    "# Enter your code here. Read input from STDIN. Print output to STDOUT\n",
    "import re\n",
    "T = int(input())\n",
    "pattern = '((.*[A-Z].*){2})((.*[0-9].*){3})'\n",
    "for i in range(T):\n",
    "    a = input()\n",
    "    if len(set(a))==10 and a.isalnum and  re.match('(.*[A-Z].*){2}',a) and re.match('(.*[0-9].*){3}',a):\n",
    "        print('Valid')\n",
    "    else:\n",
    "        print('Invalid')\n"
   ]
  },
  {
   "cell_type": "markdown",
   "id": "8050fbd7",
   "metadata": {},
   "source": [
    "#### HTML Parser - Part 1"
   ]
  },
  {
   "cell_type": "code",
   "execution_count": null,
   "id": "6145bc32",
   "metadata": {},
   "outputs": [],
   "source": [
    "# Enter your code here. Read input from STDIN. Print output to STDOUT\n",
    "from html.parser import HTMLParser\n",
    "class MyHTMLParser(HTMLParser):\n",
    "    def handle_starttag(self,tag,attrs):\n",
    "        print('Start :',tag)\n",
    "        for i in attrs:\n",
    "            print('->',i[0],'>',i[1])\n",
    "    def handle_endtag(self,tag):\n",
    "        print('End   :',tag)\n",
    "    def handle_startendtag(self,tag,attrs):\n",
    "        print('Empty :',tag)\n",
    "        for i in attrs:\n",
    "            print('->',i[0],'>',i[1])\n",
    "parser=MyHTMLParser()\n",
    "N = int(input())\n",
    "for i in range(N):\n",
    "    a = input()\n",
    "    parser.feed(a)\n",
    "    \n"
   ]
  },
  {
   "cell_type": "markdown",
   "id": "155eb94d",
   "metadata": {},
   "source": [
    "#### HTML Parser - Part 2"
   ]
  },
  {
   "cell_type": "code",
   "execution_count": null,
   "id": "9adcd59b",
   "metadata": {},
   "outputs": [],
   "source": [
    "from html.parser import HTMLParser\n",
    "\n",
    "class MyHTMLParser(HTMLParser):\n",
    "    def handle_comment(self, data):\n",
    "        if len(data.split('\\n'))!=1:\n",
    "            print('>>> Multi-line Comment')\n",
    "        else:\n",
    "            print('>>> Single-line Comment')\n",
    "        print(data)\n",
    "    def handle_data(self,data):\n",
    "        if data.strip():\n",
    "            print('>>> Data')\n",
    "            print(data)\n",
    "        \n",
    "html = \"\"       \n",
    "for i in range(int(input())):\n",
    "    html += input().rstrip()\n",
    "    html += '\\n'\n",
    "    \n",
    "parser = MyHTMLParser()\n",
    "parser.feed(html)\n",
    "parser.close()\n"
   ]
  },
  {
   "cell_type": "markdown",
   "id": "e9662728",
   "metadata": {},
   "source": [
    "#### Detect HTML Tags, Attributes and Attribute Values"
   ]
  },
  {
   "cell_type": "code",
   "execution_count": null,
   "id": "f1116880",
   "metadata": {},
   "outputs": [],
   "source": [
    "# Enter your code here. Read input from STDIN. Print output to STDOUT\n",
    "N = int(input())\n",
    "from html.parser import HTMLParser\n",
    "class MYHTMLParser(HTMLParser):\n",
    "    def handle_starttag(self, tag, attrs):\n",
    "        print(tag)\n",
    "        for i in attrs:\n",
    "            print('->',i[0],'>',i[1])\n",
    "parser=MYHTMLParser()\n",
    "for i in range(N):\n",
    "    a=input()\n",
    "    parser.feed(a)\n",
    "    \n"
   ]
  },
  {
   "cell_type": "markdown",
   "id": "5c52cd90",
   "metadata": {},
   "source": [
    "#### Validating Credit Card Numbers"
   ]
  },
  {
   "cell_type": "code",
   "execution_count": null,
   "id": "d473a7f1",
   "metadata": {},
   "outputs": [],
   "source": [
    "# Enter your code here. Read input from STDIN. Print output to STDOUT\n",
    "import re\n",
    "N =int(input())\n",
    "for i in range(N):\n",
    "    code = input()\n",
    "    b = bool(re.match(r'^[456]\\d{15}$',code))\n",
    "    c= bool(re.match(r'^[456]\\d{3}-\\d{4}-\\d{4}-\\d{4}$',code))\n",
    "    new_code=code.replace('-','')\n",
    "    d = bool(re.search(r'(\\d)\\1{3}',new_code))\n",
    "    \n",
    "    if (b or c) and d==False:\n",
    "        print('Valid')\n",
    "    else:\n",
    "        print('Invalid')\n"
   ]
  },
  {
   "cell_type": "markdown",
   "id": "c8c5db2a",
   "metadata": {},
   "source": [
    "#### Validating Postal Codes"
   ]
  },
  {
   "cell_type": "code",
   "execution_count": null,
   "id": "b0c36773",
   "metadata": {},
   "outputs": [],
   "source": [
    "regex_integer_in_range = r\"^[1-9][0-9]{5}$\"\t# Do not delete 'r'.\n",
    "regex_alternating_repetitive_digit_pair = r\"(\\d)(?=\\d\\1)\"\t# Do not delete 'r'.\n",
    "import re\n",
    "P = input()\n",
    "\n",
    "print (bool(re.match(regex_integer_in_range, P)) \n",
    "and len(re.findall(regex_alternating_repetitive_digit_pair, P)) < 2)\n"
   ]
  },
  {
   "cell_type": "markdown",
   "id": "420473f6",
   "metadata": {},
   "source": [
    "#### Matrix Script"
   ]
  },
  {
   "cell_type": "code",
   "execution_count": null,
   "id": "1b690f4e",
   "metadata": {},
   "outputs": [],
   "source": [
    "#!/bin/python3\n",
    "\n",
    "import math\n",
    "import os\n",
    "import random\n",
    "import re\n",
    "import sys\n",
    "\n",
    "\n",
    "\n",
    "\n",
    "first_multiple_input = input().rstrip().split()\n",
    "\n",
    "n = int(first_multiple_input[0])\n",
    "\n",
    "m = int(first_multiple_input[1])\n",
    "\n",
    "matrix = []\n",
    "\n",
    "for _ in range(n):\n",
    "    matrix_item = input()\n",
    "    matrix.append(matrix_item)\n",
    "\n",
    "b =''\n",
    "for j in range(m):\n",
    "    for i in range(n):\n",
    "        b+=''.join(matrix[i][j])\n",
    "\n",
    "print(re.sub(r'\\b[^\\w]+\\b',' ',b))\n",
    "## Explanation: \\b character matches the word boundary between a word and non-word, + matches 1 or more of [^\\w]\n",
    "\n"
   ]
  },
  {
   "cell_type": "markdown",
   "id": "aa197489",
   "metadata": {},
   "source": [
    "# PROBLEM 2"
   ]
  },
  {
   "cell_type": "markdown",
   "id": "56ba0b84",
   "metadata": {},
   "source": [
    "### Birthday Cake Candles\n",
    "\n"
   ]
  },
  {
   "cell_type": "code",
   "execution_count": null,
   "id": "63c09b59",
   "metadata": {},
   "outputs": [],
   "source": [
    "#!/bin/python3\n",
    "\n",
    "import math\n",
    "import os\n",
    "import random\n",
    "import re\n",
    "import sys\n",
    "\n",
    "#\n",
    "# Complete the 'birthdayCakeCandles' function below.\n",
    "#\n",
    "# The function is expected to return an INTEGER.\n",
    "# The function accepts INTEGER_ARRAY candles as parameter.\n",
    "#\n",
    "\n",
    "def birthdayCakeCandles(candles):\n",
    "    c = 0\n",
    "    m= max(candles)\n",
    "    for i in range(0,len(candles)):\n",
    "        if candles[i]==m:\n",
    "            c+=1\n",
    "    return c      \n",
    "    \n",
    "    # Write your code here\n",
    "\n",
    "if __name__ == '__main__':\n",
    "    fptr = open(os.environ['OUTPUT_PATH'], 'w')\n",
    "\n",
    "    candles_count = int(input().strip())\n",
    "\n",
    "    candles = list(map(int, input().rstrip().split()))\n",
    "\n",
    "    result = birthdayCakeCandles(candles)\n",
    "\n",
    "    fptr.write(str(result) + '\\n')\n",
    "\n",
    "    fptr.close()\n"
   ]
  },
  {
   "cell_type": "markdown",
   "id": "fc054fbb",
   "metadata": {},
   "source": [
    "### NUMBER LINE JUMPS"
   ]
  },
  {
   "cell_type": "code",
   "execution_count": null,
   "id": "9fa0e480",
   "metadata": {},
   "outputs": [],
   "source": [
    "#!/bin/python3\n",
    "\n",
    "import math\n",
    "import os\n",
    "import random\n",
    "import re\n",
    "import sys\n",
    "\n",
    "#\n",
    "# Complete the 'kangaroo' function below.\n",
    "#\n",
    "# The function is expected to return a STRING.\n",
    "# The function accepts following parameters:\n",
    "#  1. INTEGER x1\n",
    "#  2. INTEGER v1\n",
    "#  3. INTEGER x2\n",
    "#  4. INTEGER v2\n",
    "#\n",
    "\n",
    "def kangaroo(x1, v1, x2, v2):\n",
    "    # Write your code here\n",
    "    if x1<x2 and v1 < v2 or (x2<x1 and v2<v1) :\n",
    "        return 'NO'\n",
    "    else:\n",
    "        if v1!= v2 and (x1-x2)%(v1-v2)==0:\n",
    "            return 'YES'\n",
    "        else:\n",
    "            return 'NO'\n",
    "        \n",
    "\n",
    "if __name__ == '__main__':\n",
    "    fptr = open(os.environ['OUTPUT_PATH'], 'w')\n",
    "\n",
    "    first_multiple_input = input().rstrip().split()\n",
    "\n",
    "    x1 = int(first_multiple_input[0])\n",
    "\n",
    "    v1 = int(first_multiple_input[1])\n",
    "\n",
    "    x2 = int(first_multiple_input[2])\n",
    "\n",
    "    v2 = int(first_multiple_input[3])\n",
    "\n",
    "    result = kangaroo(x1, v1, x2, v2)\n",
    "\n",
    "    fptr.write(result + '\\n')\n",
    "\n",
    "    fptr.close()\n"
   ]
  },
  {
   "cell_type": "markdown",
   "id": "d45e01a3",
   "metadata": {},
   "source": [
    "### VIRAL ADVERTISING"
   ]
  },
  {
   "cell_type": "code",
   "execution_count": null,
   "id": "ef3d414c",
   "metadata": {},
   "outputs": [],
   "source": [
    "#!/bin/python3\n",
    "\n",
    "import math\n",
    "import os\n",
    "import random\n",
    "import re\n",
    "import sys\n",
    "\n",
    "#\n",
    "# Complete the 'viralAdvertising' function below.\n",
    "#\n",
    "# The function is expected to return an INTEGER.\n",
    "# The function accepts INTEGER n as parameter.\n",
    "#\n",
    "\n",
    "def viralAdvertising(n):\n",
    "    # Write your code here\n",
    "    cumulative = 0\n",
    "    shared = 5\n",
    "    liked = 2\n",
    "    \n",
    "    for i in range(0,n):\n",
    "        liked = shared//2\n",
    "        shared = liked*3\n",
    "        cumulative += int(liked)\n",
    "        \n",
    "    return cumulative\n",
    "        \n",
    "        \n",
    "\n",
    "if __name__ == '__main__':\n",
    "    fptr = open(os.environ['OUTPUT_PATH'], 'w')\n",
    "\n",
    "    n = int(input().strip())\n",
    "\n",
    "    result = viralAdvertising(n)\n",
    "\n",
    "    fptr.write(str(result) + '\\n')\n",
    "\n",
    "    fptr.close()\n"
   ]
  },
  {
   "cell_type": "markdown",
   "id": "c0c559b5",
   "metadata": {},
   "source": [
    "## RECURSIVE DIGIT SUM"
   ]
  },
  {
   "cell_type": "code",
   "execution_count": null,
   "id": "b1a86f26",
   "metadata": {},
   "outputs": [],
   "source": [
    "#!/bin/python3\n",
    "\n",
    "import math\n",
    "import os\n",
    "import random\n",
    "import re\n",
    "import sys\n",
    "\n",
    "#\n",
    "# Complete the 'superDigit' function below.\n",
    "#\n",
    "# The function is expected to return an INTEGER.\n",
    "# The function accepts following parameters:\n",
    "#  1. STRING n\n",
    "#  2. INTEGER k\n",
    "#\n",
    "\n",
    "def superDigit(n, k):\n",
    "    # Write your code here\n",
    "    def a (n):\n",
    "        count = 0\n",
    "        for i in n:\n",
    "            count += int(i)\n",
    "        count = str(count)\n",
    "        if len(count) == 1:\n",
    "            return count\n",
    "        else:\n",
    "            return a(count)\n",
    "    b = str(a(n)*k)\n",
    "    return a(b)\n",
    "   \n",
    "        \n",
    "\n",
    "if __name__ == '__main__':\n",
    "    fptr = open(os.environ['OUTPUT_PATH'], 'w')\n",
    "\n",
    "    first_multiple_input = input().rstrip().split()\n",
    "\n",
    "    n = first_multiple_input[0]\n",
    "\n",
    "    k = int(first_multiple_input[1])\n",
    "\n",
    "    result = superDigit(n, k)\n",
    "\n",
    "    fptr.write(str(result) + '\\n')\n",
    "\n",
    "    fptr.close()\n"
   ]
  },
  {
   "cell_type": "markdown",
   "id": "6686fd71",
   "metadata": {},
   "source": [
    "## INSERTION SORT-PART 1"
   ]
  },
  {
   "cell_type": "code",
   "execution_count": null,
   "id": "e3926497",
   "metadata": {},
   "outputs": [],
   "source": [
    "#!/bin/python3\n",
    "\n",
    "import math\n",
    "import os\n",
    "import random\n",
    "import re\n",
    "import sys\n",
    "\n",
    "#\n",
    "# Complete the 'insertionSort1' function below.\n",
    "#\n",
    "# The function accepts following parameters:\n",
    "#  1. INTEGER n\n",
    "#  2. INTEGER_ARRAY arr\n",
    "#\n",
    "\n",
    "def insertionSort1(n, arr):\n",
    "    # Write your code here\n",
    "    \n",
    "    \n",
    "    a = arr[n-1]\n",
    "    for i in range(n-1,-1,-1):\n",
    "        if a < arr[i-1] and i>=1:\n",
    "            arr[i]=arr[i-1] \n",
    "            print(' '.join(str(x) for x in arr))\n",
    "        else:\n",
    "            arr[i]=a\n",
    "            print(' '.join(str(x) for x in arr))\n",
    "            break\n",
    "          \n",
    "if __name__ == '__main__':\n",
    "    n = int(input().strip())\n",
    "\n",
    "    arr = list(map(int, input().rstrip().split()))\n",
    "\n",
    "    insertionSort1(n, arr)\n"
   ]
  },
  {
   "cell_type": "markdown",
   "id": "d3dde0cd",
   "metadata": {},
   "source": [
    "### INSERTION SORT - PART 2"
   ]
  },
  {
   "cell_type": "code",
   "execution_count": null,
   "id": "03befc17",
   "metadata": {},
   "outputs": [],
   "source": [
    "#!/bin/python3\n",
    "\n",
    "import math\n",
    "import os\n",
    "import random\n",
    "import re\n",
    "import sys\n",
    "\n",
    "#\n",
    "# Complete the 'insertionSort2' function below.\n",
    "#\n",
    "# The function accepts following parameters:\n",
    "#  1. INTEGER n\n",
    "#  2. INTEGER_ARRAY arr\n",
    "#\n",
    "\n",
    "def insertionSort2(n, arr):\n",
    "    for i in range(1,len(arr)):\n",
    "        while arr[i-1]>arr[i] and i>0 :\n",
    "            arr[i], arr[i-1]=arr[i-1],arr[i]\n",
    "           \n",
    "            \n",
    "            i=i-1\n",
    "        print(' '.join(str(x) for x in arr))\n",
    "            \n",
    "    # Write your code here\n",
    "   \n",
    "    \n",
    "if __name__ == '__main__':\n",
    "    n = int(input().strip())\n",
    "\n",
    "    arr = list(map(int, input().rstrip().split()))\n",
    "\n",
    "    insertionSort2(n, arr)\n"
   ]
  }
 ],
 "metadata": {
  "kernelspec": {
   "display_name": "Python 3 (ipykernel)",
   "language": "python",
   "name": "python3"
  },
  "language_info": {
   "codemirror_mode": {
    "name": "ipython",
    "version": 3
   },
   "file_extension": ".py",
   "mimetype": "text/x-python",
   "name": "python",
   "nbconvert_exporter": "python",
   "pygments_lexer": "ipython3",
   "version": "3.9.13"
  }
 },
 "nbformat": 4,
 "nbformat_minor": 5
}
